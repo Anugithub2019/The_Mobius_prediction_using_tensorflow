{
  "nbformat": 4,
  "nbformat_minor": 0,
  "metadata": {
    "colab": {
      "name": " The Möbius Function.ipynb",
      "provenance": [],
      "collapsed_sections": [],
      "toc_visible": true
    },
    "kernelspec": {
      "name": "python3",
      "display_name": "Python 3"
    },
    "language_info": {
      "name": "python"
    }
  },
  "cells": [
    {
      "cell_type": "markdown",
      "source": [
        " \n",
        "In this notebook we will investigate how good small neural networks are at predicting an important number-theoretic function, and investigate other number-theoretic properties like divisibility and factorisation. We will be taking for granted a lot of the background covered in tensorflow"
      ],
      "metadata": {
        "id": "N8SQDd5uN9yC"
      }
    },
    {
      "cell_type": "markdown",
      "source": [
        "#  Predicting the Möbius function\n",
        "\n",
        "The [Möbius function](https://en.wikipedia.org/wiki/Möbius_function) $\\mu(n)$ indicates whether the positive integer $n$ has a squarefree factorisation into primes, and if so whether there are an odd or even number of distinct prime factors:\n",
        "\n",
        "$$\n",
        "\\mu(n) = \\begin{cases}\n",
        "-1 & \\text{ if $n$ is squarefree with an odd number of prime factors, } \\\\\n",
        "0 & \\text{ if $n$ has a repeated prime factor, and} \\\\\n",
        "+1 & \\text{ if $n$ is squarefree with an even number of prime factors.}\n",
        "\\end{cases}\n",
        "$$\n",
        "\n",
        "Our goal is to train a neural net to predict the values of $\\mu$.\n",
        "\n",
        "Fix a bit-length $B \\geq 1$, then we will look at predicting $\\mu(n)$ for $n$ in the range $[0, 2^B)$, i.e. numbers of length at most $B$ when written in binary. The neural network will act as a map $\\mathbb{R}^B \\to \\mathbb{R}^3$, where the input for $n$ is a $B$-long vector of 1's and 0's (the binary representation of $n$), and the output vector in $\\mathbb{R}^3$ has the first slot corresponding to $-1$, the second to $0$, and the third to $+1$.\n",
        "\n",
        "For instance, if $B = 5$ then we are working with the numbers $n \\in \\{0, 1, \\ldots, 31\\}$. The number $n = 13$ would correspond to the input vector $[0, 1, 1, 0, 1]$, and the neural network might output $[-0.14, 0.02, 0.53]$: we would interpret these outputs using the [Softmax](https://pytorch.org/docs/stable/generated/torch.sparse.softmax.html) function to be the probability distribution $[24\\%, 29\\%, 47\\%]$, and take the maximum-likelihood result as being its classification, corresponding to the statement \"$\\mu(13)$ is predicted to be $1$\". In this case it would have gotten the wrong answer: $13$ is prime and so $\\mu(13) = -1$."
      ],
      "metadata": {
        "id": "64dqL-ToTi4y"
      }
    },
    {
      "cell_type": "code",
      "execution_count": null,
      "metadata": {
        "id": "baTDKeEIPzel"
      },
      "outputs": [],
      "source": [
        "import functools\n",
        "import random\n",
        "\n",
        "from typing import List, Tuple\n",
        "\n",
        "import numpy as np\n",
        "import pandas as pd\n",
        "import matplotlib.pyplot as plt\n",
        "\n",
        "import torch\n",
        "import torch.optim\n",
        "from torch import nn\n",
        "from torch.utils.data import Dataset\n",
        "from torch.utils.data import DataLoader\n"
      ]
    },
    {
      "cell_type": "markdown",
      "source": [
        "## Auxiliary functions\n",
        "\n",
        "Firstly we will need to calculate $\\mu(n)$ for $n$ in a large range, which can be done using a prime sieve (and other sieving techniques). We will also need a function which outputs a big array of all the binary representations of numbers in the range $[0, 2^B)$.\n",
        "\n",
        "To find all primes in the range $[0, N)$ we will use the [Sieve of Eratosthenes](https://en.wikipedia.org/wiki/Sieve_of_Eratosthenes). Once we have a list of primes below $N$, we can similarly use sieving techniques to calculate $\\mu(n)$ quickly for all $n \\in [0, N)$.\n",
        "\n",
        "**Tangential exercise**: using the approximation $1 + 1/2 + 1/3 + \\cdots + 1/n = O(\\log n)$ of the harmonic series, show that sieving primes up to $N$ takes $O(N \\log N)$ time. Using trial division on each number would take $1 + \\sqrt{2} + \\sqrt{3} + \\cdots + \\sqrt{N} = O(N^{3/2})$ time. If $N = 10^7$ then sieving primes using the function below takes about a second: approximately how long would it take using trial division?\n",
        "\n",
        "> The tangential exercise is unimportant from a machine learning perspective, but important if you are not used to algorithms: a better algorithm can be the difference between a program finishing in a second or finishing next week. This is especially important if you are trying to generate tons of data to feed into a neural network!"
      ],
      "metadata": {
        "id": "3VuW03z-ZQjk"
      }
    },
    {
      "cell_type": "code",
      "source": [
        "@functools.lru_cache(maxsize=None)\n",
        "def primes_upto(N: int) -> List[int]:\n",
        "    \"\"\"\n",
        "    Return the prime numbers in the range [0, N) in increasing order.\n",
        "\n",
        "    >>> primes_upto(2)\n",
        "    []\n",
        "    >>> primes_upto(3)\n",
        "    [2]\n",
        "    >>> primes_upto(100)\n",
        "    [2, 3, 5, 7, 11, 13, 17, 19, 23, 29, 31, 37, 41, 43, 47, 53, 59, 61, 67, 71, 73, 79, 83, 89, 97]\n",
        "    \"\"\"\n",
        "\n",
        "    # N should be at least 2 to run the sieve below.\n",
        "    if N <= 1:\n",
        "        return []\n",
        "\n",
        "    # Sieve of Eratosthenes, using an array of integers of 0 (not prime) or 1 (prime).\n",
        "    sieve = [1] * N\n",
        "    sieve[0] = 0\n",
        "    sieve[1] = 0\n",
        "    for i in range(2, N):\n",
        "        if sieve[i] == 1:\n",
        "            for j in range(i*i, N, i):\n",
        "                sieve[j] = 0\n",
        "\n",
        "    return [p for p in range(N) if sieve[p] == 1]\n",
        "\n",
        "\n",
        "def omega_upto(N: int) -> Tuple[List[int], List[int]]:\n",
        "    \"\"\"\n",
        "    The little-omega of n is the number of distinct prime factors of n, and the big-omega of n is the\n",
        "    number of prime factors of n counting multiplicity: https://en.wikipedia.org/wiki/Prime_omega_function.\n",
        "\n",
        "    The function omega_upto returns two parallel arrays of N elements, giving the little and big omegas of [0, N).\n",
        "\n",
        "    >>> little_omega, big_omega = omega_upto(40)\n",
        "    >>> little_omega\n",
        "    [0, 0, 1, 1, 1, 1, 2, 1, 1, 1, 2, 1, 2, 1, 2, 2, 1, 1, 2, 1, 2, 2, 2, 1, 2, 1, 2, 1, 2, 1, 3, 1, 1, 2, 2, 2, 2, 1, 2, 2]\n",
        "    >>> big_omega\n",
        "    [0, 0, 1, 1, 2, 1, 2, 1, 3, 2, 2, 1, 3, 1, 2, 2, 4, 1, 3, 1, 3, 2, 2, 1, 4, 2, 2, 3, 3, 1, 3, 1, 5, 2, 2, 2, 4, 1, 2, 2]\n",
        "    \"\"\"\n",
        "\n",
        "    little = [0] * N\n",
        "    big = [0] * N\n",
        "\n",
        "    for p in primes_upto(N):\n",
        "        # For each prime, mark off its multiples in the little array.\n",
        "        for i in range(p, N, p):\n",
        "            little[i] += 1\n",
        "\n",
        "        # For each prime power, mark off its multiples in the big array.\n",
        "        power = p\n",
        "        while power < N:\n",
        "            for i in range(power, N, power):\n",
        "                big[i] += 1\n",
        "            power *= p\n",
        "\n",
        "    return little, big\n",
        "\n",
        "\n",
        "def mobius_upto(N: int) -> List[int]:\n",
        "    \"\"\"\n",
        "    The mobius function of n is::\n",
        "\n",
        "        +1 if n has an even number of prime factors, all distinct,\n",
        "        -1 if n has an odd number of prime factors, all distinct, and\n",
        "         0 if n has a repeated prime factor.\n",
        "\n",
        "    We define the mobius function at 0 to be equal to 1.\n",
        "\n",
        "    >>> mobius_upto(40)\n",
        "    [1, 1, -1, -1, 0, -1, 1, -1, 0, 0, 1, -1, 0, -1, 1, 1, 0, -1, 0, -1, 0, 1, 1, -1, 0, 0, 1, 0, 0, -1, -1, -1, 0, 1, 1, 1, 0, -1, 1, 1]\n",
        "    \"\"\"\n",
        "\n",
        "    little_omega, big_omega = omega_upto(N)\n",
        "    return [\n",
        "        0 if little_omega[i] != big_omega[i] else 1 if little_omega[i] % 2 == 0 else -1\n",
        "        for i in range(N)\n",
        "    ]"
      ],
      "metadata": {
        "id": "f5rq6JMmQEOi"
      },
      "execution_count": null,
      "outputs": []
    },
    {
      "cell_type": "markdown",
      "source": [
        "The function `binary_block(B)` takes an integer $B$ and returns a tensor $T$ of shape $(2^B, B)$ such that $T[i, :]$ is the $B$-bit binary representation of $i$."
      ],
      "metadata": {
        "id": "4JPCB3fST250"
      }
    },
    {
      "cell_type": "code",
      "source": [
        "def binary_block(bits: int):\n",
        "    \"\"\"\n",
        "    Return a tensor T of shape (2^bits, bits) such that T[i, :] is a 01-vector\n",
        "    of length bits, containing the binary representation of i. For example:\n",
        "\n",
        "    >>> binary_block(2)\n",
        "    array([[0, 0],\n",
        "           [0, 1],\n",
        "           [1, 0],\n",
        "           [1, 1]])\n",
        "    >>> binary_block(3)[6,:]\n",
        "    array([1, 1, 0])\n",
        "    \"\"\"\n",
        "    # Matrix of coordinates 100, 010, 001 etc.\n",
        "    coords = np.identity(bits, dtype=int)\n",
        "\n",
        "    # Add 0 or 1 lots of coords in every way possible.\n",
        "    result = np.zeros(bits, dtype=int)\n",
        "    for i in reversed(range(bits)):\n",
        "        result = np.row_stack([result, result + coords[:,i]])\n",
        "\n",
        "    return result"
      ],
      "metadata": {
        "id": "3QhoIRivT16y"
      },
      "execution_count": null,
      "outputs": []
    },
    {
      "cell_type": "markdown",
      "source": [
        "## A dataset\n",
        "\n",
        "Fix a bit-length $B$, then our dataset will consist of $2^B$ inputs, stored in a tensor $T$ of shape $(2^B, B)$, such that $T[i, :]$ is a $B$-long vector 01 vector, and $2^B$ output categories, a $2^B$-long vector taking values in $\\{0, 1, 2\\}$. (PyTorch really wants a problem featuring $C$ categories to be labelled $[0, C)$, so we will shift the range $\\{-1, 0, 1\\}$ up to $\\{0, 1, 2\\}$ by adding $1$).\n",
        "\n",
        "The function `create_dataset(bits)` will take the bit-length `B` and return three objects:\n",
        "- A Python array `mu` containing the values of the mobius function, eg `mu[n] = \\mu(n)`.\n",
        "- A `float32` tensor `mu_input` of shape $(2^B, B)$: the inputs to the network.\n",
        "- A `long` tensor `mu_output` of shape $(2^B)$ taking values in $[0, 1, 2]$: `mu_output[n] = \\mu(n) + 1`.\n",
        "\n",
        "> *Note:* The exponentiation operator is written as `**` in Python, so $a^b$ is written `a ** b`."
      ],
      "metadata": {
        "id": "059ZpZiIZs82"
      }
    },
    {
      "cell_type": "code",
      "source": [
        "def create_dataset(bits: int) -> Tuple[int, int, np.array, np.array]:\n",
        "    mu = mobius_upto(2**bits)\n",
        "    mu_input = torch.tensor(binary_block(bits), dtype=torch.float32)\n",
        "    mu_output = torch.tensor(mu) + 1\n",
        "\n",
        "    return mu, mu_input, mu_output\n",
        "  \n",
        "create_dataset(3)"
      ],
      "metadata": {
        "colab": {
          "base_uri": "https://localhost:8080/"
        },
        "id": "yEfdgFEepnnX",
        "outputId": "66a4e32e-7dcc-4cbf-f1ec-e33cb1cd088a"
      },
      "execution_count": null,
      "outputs": [
        {
          "output_type": "execute_result",
          "data": {
            "text/plain": [
              "([1, 1, -1, -1, 0, -1, 1, -1], tensor([[0., 0., 0.],\n",
              "         [0., 0., 1.],\n",
              "         [0., 1., 0.],\n",
              "         [0., 1., 1.],\n",
              "         [1., 0., 0.],\n",
              "         [1., 0., 1.],\n",
              "         [1., 1., 0.],\n",
              "         [1., 1., 1.]]), tensor([2, 2, 0, 0, 1, 0, 2, 0]))"
            ]
          },
          "metadata": {},
          "execution_count": 4
        }
      ]
    },
    {
      "cell_type": "markdown",
      "source": [
        "## Network structure\n",
        "\n",
        "We will have a flexible network structure, requiring that there is an input layer of size $B$, an output layer of size $3$, and zero or more *hidden layers*. Every layer is an affine function, with all but the last layer followed by the [ReLU](https://pytorch.org/docs/stable/generated/torch.nn.ReLU.html) activation function.\n",
        "\n",
        "The `create_network` function is a helper for making these kind of simple networks."
      ],
      "metadata": {
        "id": "BZL0xbvub_-L"
      }
    },
    {
      "cell_type": "code",
      "source": [
        "def create_network(layers: List[int]):\n",
        "    return nn.Sequential(*[\n",
        "        module\n",
        "        for x, y in zip(layers, layers[1:])\n",
        "        for module in [nn.Linear(x, y), nn.ReLU()]\n",
        "    ][:-1])\n",
        "\n",
        "\n",
        "# An example network (not the one we will end up using!)\n",
        "create_network([8, 50, 20, 3])"
      ],
      "metadata": {
        "colab": {
          "base_uri": "https://localhost:8080/"
        },
        "id": "Mh2xsrGKba0S",
        "outputId": "82dca103-b8af-4dac-f9cd-055f079e0b5b"
      },
      "execution_count": null,
      "outputs": [
        {
          "output_type": "execute_result",
          "data": {
            "text/plain": [
              "Sequential(\n",
              "  (0): Linear(in_features=8, out_features=50, bias=True)\n",
              "  (1): ReLU()\n",
              "  (2): Linear(in_features=50, out_features=20, bias=True)\n",
              "  (3): ReLU()\n",
              "  (4): Linear(in_features=20, out_features=3, bias=True)\n",
              ")"
            ]
          },
          "metadata": {},
          "execution_count": 5
        }
      ]
    },
    {
      "cell_type": "markdown",
      "source": [
        "## Training\n",
        "\n",
        " We will be using the [cross entropy loss](https://pytorch.org/docs/stable/generated/torch.nn.CrossEntropyLoss.html), and [stochastic gradient descent](https://pytorch.org/docs/stable/generated/torch.optim.SGD.html) as the training method.\n",
        "\n",
        "We will allow the training process to see 50% of the data in the whole dataset.\n",
        "\n",
        "> *Technical point 1*: Since we now have a large dataset, tracking the loss over time against the training and validation datasets becomes quite expensive and slows down the program. Hence we only calculate them every 100 epochs.\n",
        "\n",
        "> *Technical point 2*: We also use the special `with torch.no_grad():` block when running data through the network when we have no intention of performing gradient descent on the results. This block stops PyTorch from tracking auxiliary data in the `recorded_loss` tensor - we don't need this because we're never going to ask for the derivative in the `recorded_loss` tensor."
      ],
      "metadata": {
        "id": "88sMsiuhekbh"
      }
    },
    {
      "cell_type": "code",
      "source": [
        "# Set the bitsize and create the dataset.\n",
        "BITS = 16\n",
        "mu, mu_input, mu_output = create_dataset(BITS)\n",
        "\n",
        "# Select 50% of the data to be training data.\n",
        "indices = torch.randperm(2**BITS)\n",
        "training_idx, validation_idx = indices[:2**BITS // 2], indices[2**BITS // 2:]\n",
        "mu_input_training, mu_output_training = mu_input[training_idx], mu_output[training_idx]\n",
        "mu_input_validation, mu_output_validation = mu_input[validation_idx], mu_output[validation_idx]\n",
        "\n",
        "def create_and_train_binary_model(hidden_layers: List[int], epochs: int):\n",
        "    model = create_network([BITS] + hidden_layers + [3])\n",
        "    loss_function = nn.CrossEntropyLoss()\n",
        "    optimiser = torch.optim.SGD(model.parameters(), lr=0.01, momentum=0.01)\n",
        "\n",
        "    # We will record the loss functions across the dataset every 100 epochs.\n",
        "    LOSS_INTERVAL = 100\n",
        "    recorded_loss = torch.full(size=(epochs//LOSS_INTERVAL, 3), fill_value=0.0)\n",
        "\n",
        "    # At each epoch, show the network 10 data points and do gradient descent.\n",
        "    for epoch in range(epochs):\n",
        "        training_size = mu_input_training.shape[0]\n",
        "        batch = torch.tensor(random.sample(range(training_size), k=10))\n",
        "\n",
        "        optimiser.zero_grad()\n",
        "        model_output = model(mu_input_training[batch])\n",
        "        loss = loss_function(model_output, mu_output_training[batch])\n",
        "        loss.backward()\n",
        "        optimiser.step()\n",
        "\n",
        "        if epoch % LOSS_INTERVAL == 0:\n",
        "            # Record the training and validation loss of the network at each epoch.\n",
        "            # We do this with no_grad enabled: this disables computation tracking and uses much less RAM.\n",
        "            with torch.no_grad():\n",
        "                recorded_loss[epoch // LOSS_INTERVAL, 0] = epoch\n",
        "                recorded_loss[epoch // LOSS_INTERVAL, 1] = loss_function(model(mu_input_training), mu_output_training)\n",
        "                recorded_loss[epoch // LOSS_INTERVAL, 2] = loss_function(model(mu_input_validation), mu_output_validation)\n",
        "\n",
        "    return model, recorded_loss\n",
        "\n",
        "hidden_layers = [10, 10]\n",
        "binary_model, loss = create_and_train_binary_model(hidden_layers, epochs=6000)\n",
        "\n",
        "# Plot the loss function over time.\n",
        "fig, ax = plt.subplots(figsize=(10, 5))\n",
        "ax.plot(loss[:, 0], loss[:, 1], label='Training loss')\n",
        "ax.plot(loss[:, 0], loss[:, 2], label='Validation loss')\n",
        "ax.set_xlabel('Epoch')\n",
        "ax.legend()\n",
        "ax.grid()\n",
        "ax.set_title(f\"Loss over time for a network with hidden layers {hidden_layers}\")\n",
        "plt.show()"
      ],
      "metadata": {
        "colab": {
          "base_uri": "https://localhost:8080/",
          "height": 350
        },
        "id": "mMBImjZy2yxn",
        "outputId": "9242491c-1c89-469e-a9f2-89458e2a36b9"
      },
      "execution_count": null,
      "outputs": [
        {
          "output_type": "display_data",
          "data": {
            "image/png": "[encoded data removed]",
            "text/plain": [
              "<Figure size 720x360 with 1 Axes>"
            ]
          },
          "metadata": {
            "needs_background": "light"
          }
        }
      ]
    },
    {
      "cell_type": "code",
      "source": [
        "list(binary_model.parameters())"
      ],
      "metadata": {
        "id": "OyNtZuBOMGTs",
        "outputId": "7910970a-7591-451e-d9b5-b5fadd9fa14f",
        "colab": {
          "base_uri": "https://localhost:8080/"
        }
      },
      "execution_count": null,
      "outputs": [
        {
          "output_type": "execute_result",
          "data": {
            "text/plain": [
              "[Parameter containing:\n",
              " tensor([[ 0.1937,  0.2064,  0.0450, -0.0500, -0.1303,  0.1041,  0.0646, -0.1350,\n",
              "           0.1543, -0.0598, -0.1210, -0.1336,  0.1567, -0.0100,  0.3884,  0.1897],\n",
              "         [ 0.1432, -0.0127, -0.0789,  0.1070,  0.1034,  0.0714,  0.1400,  0.0057,\n",
              "           0.0289, -0.0899,  0.1031,  0.0180,  0.0246, -0.0566, -0.5416, -0.5053],\n",
              "         [-0.2489, -0.1987,  0.1811, -0.0589, -0.1346,  0.0436,  0.0522, -0.1100,\n",
              "          -0.0569,  0.0551, -0.0348, -0.2436,  0.1455,  0.0792,  0.0576, -0.1106],\n",
              "         [ 0.0921,  0.1529,  0.1191,  0.1913,  0.0429,  0.1680, -0.0333,  0.1686,\n",
              "           0.1206,  0.2297,  0.1524, -0.0647,  0.1315,  0.1677, -0.8076, -1.0008],\n",
              "         [ 0.1998, -0.0182,  0.2128,  0.2373, -0.1147,  0.0686,  0.0613,  0.1838,\n",
              "          -0.0679, -0.0494,  0.1090,  0.0482, -0.0453, -0.1973, -0.2006, -0.0782],\n",
              "         [ 0.0739, -0.1145, -0.1756, -0.1331, -0.2405, -0.0239, -0.0278, -0.1277,\n",
              "          -0.0216, -0.1686, -0.2441, -0.2229,  0.2349,  0.0541, -0.0196, -0.0598],\n",
              "         [ 0.0261,  0.0299, -0.0093,  0.2104,  0.0364,  0.0672, -0.0334,  0.1382,\n",
              "           0.0474,  0.0984,  0.2204, -0.1403,  0.0796,  0.0934,  0.8018,  0.7766],\n",
              "         [-0.1220,  0.0812, -0.1608, -0.0399,  0.1440, -0.1967,  0.0423, -0.1744,\n",
              "           0.0935, -0.0541, -0.0168, -0.0970, -0.0087,  0.0427, -0.0187, -0.1759],\n",
              "         [ 0.1699, -0.0246,  0.1460, -0.2039,  0.1165, -0.0816,  0.0822,  0.0463,\n",
              "           0.0866,  0.0205,  0.0639, -0.2074, -0.0301,  0.0222,  0.3829, -0.1720],\n",
              "         [-0.2238,  0.0887, -0.0385,  0.0049, -0.2138,  0.0736,  0.1894,  0.0297,\n",
              "           0.0345, -0.1340, -0.0590, -0.0913, -0.1301,  0.1505, -0.1697,  0.0115]],\n",
              "        requires_grad=True), Parameter containing:\n",
              " tensor([ 0.1160,  0.3398,  0.1630,  0.3420, -0.0951,  0.0666, -0.1114, -0.0053,\n",
              "         -0.1220, -0.1931], requires_grad=True), Parameter containing:\n",
              " tensor([[ 0.0979, -0.0837, -0.2480, -0.3025,  0.2429,  0.1371,  0.4689, -0.3207,\n",
              "          -0.0240,  0.1019],\n",
              "         [-0.0203, -0.2461, -0.0332,  0.0141,  0.0134,  0.1100, -0.2133, -0.1323,\n",
              "          -0.2476, -0.2000],\n",
              "         [-0.2761,  0.3528,  0.0760,  0.8631,  0.3035,  0.1859, -0.5945, -0.1814,\n",
              "          -0.2486, -0.1056],\n",
              "         [ 0.3663, -0.3260,  0.0127, -0.2875,  0.2405,  0.2941,  0.4850, -0.2756,\n",
              "           0.3223,  0.2793],\n",
              "         [ 0.0110,  0.2226,  0.1797, -0.0103, -0.1620,  0.2114, -0.1587,  0.1748,\n",
              "          -0.2694, -0.3084],\n",
              "         [-0.0798, -0.1618,  0.1220, -0.2155, -0.0536, -0.2224, -0.0606, -0.1615,\n",
              "           0.3159, -0.2670],\n",
              "         [-0.0436,  0.6088, -0.0860,  0.8988,  0.0539,  0.1831, -0.6922, -0.1962,\n",
              "          -0.0047,  0.3169],\n",
              "         [ 0.2034,  0.2977,  0.2936, -0.2352, -0.1203, -0.2494,  0.2418, -0.2756,\n",
              "          -0.2547,  0.0412],\n",
              "         [-0.2117,  0.0950,  0.2708, -0.2663, -0.1620,  0.1141, -0.1937,  0.0050,\n",
              "          -0.2056, -0.0111],\n",
              "         [ 0.1614,  0.2522,  0.2116, -0.2492,  0.0756, -0.2997,  0.2826, -0.0900,\n",
              "          -0.0160, -0.1101]], requires_grad=True), Parameter containing:\n",
              " tensor([ 0.2487, -0.0409,  0.3347,  0.2299, -0.2853, -0.1188,  0.2756, -0.1688,\n",
              "          0.1405, -0.2902], requires_grad=True), Parameter containing:\n",
              " tensor([[ 0.3068, -0.1086, -0.4777,  0.1515,  0.1663, -0.3021, -0.4812,  0.1021,\n",
              "          -0.1931, -0.0229],\n",
              "         [-0.3512, -0.0244,  1.0770, -0.5272,  0.0018,  0.3067,  0.9187,  0.2176,\n",
              "           0.0657,  0.1642],\n",
              "         [ 0.1648, -0.0836, -0.2244,  0.3590, -0.2915,  0.2966, -0.6351, -0.0383,\n",
              "          -0.2594, -0.2193]], requires_grad=True), Parameter containing:\n",
              " tensor([-0.0367,  0.4856, -0.0871], requires_grad=True)]"
            ]
          },
          "metadata": {},
          "execution_count": 7
        }
      ]
    },
    {
      "cell_type": "markdown",
      "source": [
        "## Evaluation\n",
        "\n",
        "The network has been trained on a little less than 50% of the total data (20 epochs, sampling 2.5% of the dataset with replacement each time). Now we check to see how good the network is at predicting the mobius function on the whole dataset. We do this by building a dataframe of triples $(n, \\mu(n), \\text{prediction})$ and then finding the percentages of $(\\mu(n), \\text{prediction})$ items."
      ],
      "metadata": {
        "id": "FXyRjgBdmUCZ"
      }
    },
    {
      "cell_type": "code",
      "source": [
        "with torch.no_grad():\n",
        "  results = pd.DataFrame.from_dict({\n",
        "      'n': range(2**BITS),\n",
        "      'actual': mu,\n",
        "      'predicted': (torch.max(binary_model(mu_input), dim=1).indices - 1),\n",
        "  })\n",
        "\n",
        "results"
      ],
      "metadata": {
        "id": "96GlXoQ7h98m",
        "colab": {
          "base_uri": "https://localhost:8080/",
          "height": 424
        },
        "outputId": "63f80308-3963-4ffa-e038-464b5fcf79a3"
      },
      "execution_count": null,
      "outputs": [
        {
          "output_type": "execute_result",
          "data": {
            "text/html": [
              "\n",
              "  <div id=\"df-e3ecdd07-2c41-4bde-b663-9e3a82ccf590\">\n",
              "    <div class=\"colab-df-container\">\n",
              "      <div>\n",
              "<style scoped>\n",
              "    .dataframe tbody tr th:only-of-type {\n",
              "        vertical-align: middle;\n",
              "    }\n",
              "\n",
              "    .dataframe tbody tr th {\n",
              "        vertical-align: top;\n",
              "    }\n",
              "\n",
              "    .dataframe thead th {\n",
              "        text-align: right;\n",
              "    }\n",
              "</style>\n",
              "<table border=\"1\" class=\"dataframe\">\n",
              "  <thead>\n",
              "    <tr style=\"text-align: right;\">\n",
              "      <th></th>\n",
              "      <th>n</th>\n",
              "      <th>actual</th>\n",
              "      <th>predicted</th>\n",
              "    </tr>\n",
              "  </thead>\n",
              "  <tbody>\n",
              "    <tr>\n",
              "      <th>0</th>\n",
              "      <td>0</td>\n",
              "      <td>1</td>\n",
              "      <td>0</td>\n",
              "    </tr>\n",
              "    <tr>\n",
              "      <th>1</th>\n",
              "      <td>1</td>\n",
              "      <td>1</td>\n",
              "      <td>-1</td>\n",
              "    </tr>\n",
              "    <tr>\n",
              "      <th>2</th>\n",
              "      <td>2</td>\n",
              "      <td>-1</td>\n",
              "      <td>1</td>\n",
              "    </tr>\n",
              "    <tr>\n",
              "      <th>3</th>\n",
              "      <td>3</td>\n",
              "      <td>-1</td>\n",
              "      <td>-1</td>\n",
              "    </tr>\n",
              "    <tr>\n",
              "      <th>4</th>\n",
              "      <td>4</td>\n",
              "      <td>0</td>\n",
              "      <td>0</td>\n",
              "    </tr>\n",
              "    <tr>\n",
              "      <th>...</th>\n",
              "      <td>...</td>\n",
              "      <td>...</td>\n",
              "      <td>...</td>\n",
              "    </tr>\n",
              "    <tr>\n",
              "      <th>65531</th>\n",
              "      <td>65531</td>\n",
              "      <td>1</td>\n",
              "      <td>-1</td>\n",
              "    </tr>\n",
              "    <tr>\n",
              "      <th>65532</th>\n",
              "      <td>65532</td>\n",
              "      <td>0</td>\n",
              "      <td>0</td>\n",
              "    </tr>\n",
              "    <tr>\n",
              "      <th>65533</th>\n",
              "      <td>65533</td>\n",
              "      <td>0</td>\n",
              "      <td>0</td>\n",
              "    </tr>\n",
              "    <tr>\n",
              "      <th>65534</th>\n",
              "      <td>65534</td>\n",
              "      <td>1</td>\n",
              "      <td>0</td>\n",
              "    </tr>\n",
              "    <tr>\n",
              "      <th>65535</th>\n",
              "      <td>65535</td>\n",
              "      <td>1</td>\n",
              "      <td>-1</td>\n",
              "    </tr>\n",
              "  </tbody>\n",
              "</table>\n",
              "<p>65536 rows × 3 columns</p>\n",
              "</div>\n",
              "      <button class=\"colab-df-convert\" onclick=\"convertToInteractive('df-e3ecdd07-2c41-4bde-b663-9e3a82ccf590')\"\n",
              "              title=\"Convert this dataframe to an interactive table.\"\n",
              "              style=\"display:none;\">\n",
              "        \n",
              "  <svg xmlns=\"http://www.w3.org/2000/svg\" height=\"24px\"viewBox=\"0 0 24 24\"\n",
              "       width=\"24px\">\n",
              "    <path d=\"M0 0h24v24H0V0z\" fill=\"none\"/>\n",
              "    <path d=\"M18.56 5.44l.94 2.06.94-2.06 2.06-.94-2.06-.94-.94-2.06-.94 2.06-2.06.94zm-11 1L8.5 8.5l.94-2.06 2.06-.94-2.06-.94L8.5 2.5l-.94 2.06-2.06.94zm10 10l.94 2.06.94-2.06 2.06-.94-2.06-.94-.94-2.06-.94 2.06-2.06.94z\"/><path d=\"M17.41 7.96l-1.37-1.37c-.4-.4-.92-.59-1.43-.59-.52 0-1.04.2-1.43.59L10.3 9.45l-7.72 7.72c-.78.78-.78 2.05 0 2.83L4 21.41c.39.39.9.59 1.41.59.51 0 1.02-.2 1.41-.59l7.78-7.78 2.81-2.81c.8-.78.8-2.07 0-2.86zM5.41 20L4 18.59l7.72-7.72 1.47 1.35L5.41 20z\"/>\n",
              "  </svg>\n",
              "      </button>\n",
              "      \n",
              "  <style>\n",
              "    .colab-df-container {\n",
              "      display:flex;\n",
              "      flex-wrap:wrap;\n",
              "      gap: 12px;\n",
              "    }\n",
              "\n",
              "    .colab-df-convert {\n",
              "      background-color: #E8F0FE;\n",
              "      border: none;\n",
              "      border-radius: 50%;\n",
              "      cursor: pointer;\n",
              "      display: none;\n",
              "      fill: #1967D2;\n",
              "      height: 32px;\n",
              "      padding: 0 0 0 0;\n",
              "      width: 32px;\n",
              "    }\n",
              "\n",
              "    .colab-df-convert:hover {\n",
              "      background-color: #E2EBFA;\n",
              "      box-shadow: 0px 1px 2px rgba(60, 64, 67, 0.3), 0px 1px 3px 1px rgba(60, 64, 67, 0.15);\n",
              "      fill: #174EA6;\n",
              "    }\n",
              "\n",
              "    [theme=dark] .colab-df-convert {\n",
              "      background-color: #3B4455;\n",
              "      fill: #D2E3FC;\n",
              "    }\n",
              "\n",
              "    [theme=dark] .colab-df-convert:hover {\n",
              "      background-color: #434B5C;\n",
              "      box-shadow: 0px 1px 3px 1px rgba(0, 0, 0, 0.15);\n",
              "      filter: drop-shadow(0px 1px 2px rgba(0, 0, 0, 0.3));\n",
              "      fill: #FFFFFF;\n",
              "    }\n",
              "  </style>\n",
              "\n",
              "      <script>\n",
              "        const buttonEl =\n",
              "          document.querySelector('#df-e3ecdd07-2c41-4bde-b663-9e3a82ccf590 button.colab-df-convert');\n",
              "        buttonEl.style.display =\n",
              "          google.colab.kernel.accessAllowed ? 'block' : 'none';\n",
              "\n",
              "        async function convertToInteractive(key) {\n",
              "          const element = document.querySelector('#df-e3ecdd07-2c41-4bde-b663-9e3a82ccf590');\n",
              "          const dataTable =\n",
              "            await google.colab.kernel.invokeFunction('convertToInteractive',\n",
              "                                                     [key], {});\n",
              "          if (!dataTable) return;\n",
              "\n",
              "          const docLinkHtml = 'Like what you see? Visit the ' +\n",
              "            '<a target=\"_blank\" href=https://colab.research.google.com/notebooks/data_table.ipynb>data table notebook</a>'\n",
              "            + ' to learn more about interactive tables.';\n",
              "          element.innerHTML = '';\n",
              "          dataTable['output_type'] = 'display_data';\n",
              "          await google.colab.output.renderOutput(dataTable, element);\n",
              "          const docLink = document.createElement('div');\n",
              "          docLink.innerHTML = docLinkHtml;\n",
              "          element.appendChild(docLink);\n",
              "        }\n",
              "      </script>\n",
              "    </div>\n",
              "  </div>\n",
              "  "
            ],
            "text/plain": [
              "           n  actual  predicted\n",
              "0          0       1          0\n",
              "1          1       1         -1\n",
              "2          2      -1          1\n",
              "3          3      -1         -1\n",
              "4          4       0          0\n",
              "...      ...     ...        ...\n",
              "65531  65531       1         -1\n",
              "65532  65532       0          0\n",
              "65533  65533       0          0\n",
              "65534  65534       1          0\n",
              "65535  65535       1         -1\n",
              "\n",
              "[65536 rows x 3 columns]"
            ]
          },
          "metadata": {},
          "execution_count": 8
        }
      ]
    },
    {
      "cell_type": "markdown",
      "source": [
        "The table below shows the percentages of (actual, predicted). Here is an example table from one of my runs:\n",
        "\n",
        "| predicted | -1   | 0    | 1    |\n",
        "|-----------|------|------|------|\n",
        "| actual    |      |      |      |\n",
        "| -1        | 0.15 | 0.00 | 0.16 |\n",
        "| 0         | 0.07 | 0.25 | 0.07 |\n",
        "| 1         | 0.14 | 0.00 | 0.16 |\n",
        "\n",
        "This shows for instance that whenever the neural network predicts that $\\mu(n) = 0$, then that prediction is true almost all the time (to within a percent, because of rounding)."
      ],
      "metadata": {
        "id": "7ETbCk5H707W"
      }
    },
    {
      "cell_type": "code",
      "source": [
        "counts = results.pivot_table(index='actual', columns='predicted', aggfunc=len, fill_value=0)\n",
        "(counts / counts.sum().sum()).round(2)"
      ],
      "metadata": {
        "colab": {
          "base_uri": "https://localhost:8080/",
          "height": 206
        },
        "id": "E3hClVvOvJAM",
        "outputId": "349d32f6-46bd-4b8c-e201-6f6a69d3c118"
      },
      "execution_count": null,
      "outputs": [
        {
          "output_type": "execute_result",
          "data": {
            "text/html": [
              "\n",
              "  <div id=\"df-2bd35ed0-6541-4b97-8fa4-fc94b64de196\">\n",
              "    <div class=\"colab-df-container\">\n",
              "      <div>\n",
              "<style scoped>\n",
              "    .dataframe tbody tr th:only-of-type {\n",
              "        vertical-align: middle;\n",
              "    }\n",
              "\n",
              "    .dataframe tbody tr th {\n",
              "        vertical-align: top;\n",
              "    }\n",
              "\n",
              "    .dataframe thead tr th {\n",
              "        text-align: left;\n",
              "    }\n",
              "\n",
              "    .dataframe thead tr:last-of-type th {\n",
              "        text-align: right;\n",
              "    }\n",
              "</style>\n",
              "<table border=\"1\" class=\"dataframe\">\n",
              "  <thead>\n",
              "    <tr>\n",
              "      <th></th>\n",
              "      <th colspan=\"3\" halign=\"left\">n</th>\n",
              "    </tr>\n",
              "    <tr>\n",
              "      <th>predicted</th>\n",
              "      <th>-1</th>\n",
              "      <th>0</th>\n",
              "      <th>1</th>\n",
              "    </tr>\n",
              "    <tr>\n",
              "      <th>actual</th>\n",
              "      <th></th>\n",
              "      <th></th>\n",
              "      <th></th>\n",
              "    </tr>\n",
              "  </thead>\n",
              "  <tbody>\n",
              "    <tr>\n",
              "      <th>-1</th>\n",
              "      <td>0.19</td>\n",
              "      <td>0.00</td>\n",
              "      <td>0.12</td>\n",
              "    </tr>\n",
              "    <tr>\n",
              "      <th>0</th>\n",
              "      <td>0.09</td>\n",
              "      <td>0.25</td>\n",
              "      <td>0.05</td>\n",
              "    </tr>\n",
              "    <tr>\n",
              "      <th>1</th>\n",
              "      <td>0.19</td>\n",
              "      <td>0.00</td>\n",
              "      <td>0.12</td>\n",
              "    </tr>\n",
              "  </tbody>\n",
              "</table>\n",
              "</div>\n",
              "      <button class=\"colab-df-convert\" onclick=\"convertToInteractive('df-2bd35ed0-6541-4b97-8fa4-fc94b64de196')\"\n",
              "              title=\"Convert this dataframe to an interactive table.\"\n",
              "              style=\"display:none;\">\n",
              "        \n",
              "  <svg xmlns=\"http://www.w3.org/2000/svg\" height=\"24px\"viewBox=\"0 0 24 24\"\n",
              "       width=\"24px\">\n",
              "    <path d=\"M0 0h24v24H0V0z\" fill=\"none\"/>\n",
              "    <path d=\"M18.56 5.44l.94 2.06.94-2.06 2.06-.94-2.06-.94-.94-2.06-.94 2.06-2.06.94zm-11 1L8.5 8.5l.94-2.06 2.06-.94-2.06-.94L8.5 2.5l-.94 2.06-2.06.94zm10 10l.94 2.06.94-2.06 2.06-.94-2.06-.94-.94-2.06-.94 2.06-2.06.94z\"/><path d=\"M17.41 7.96l-1.37-1.37c-.4-.4-.92-.59-1.43-.59-.52 0-1.04.2-1.43.59L10.3 9.45l-7.72 7.72c-.78.78-.78 2.05 0 2.83L4 21.41c.39.39.9.59 1.41.59.51 0 1.02-.2 1.41-.59l7.78-7.78 2.81-2.81c.8-.78.8-2.07 0-2.86zM5.41 20L4 18.59l7.72-7.72 1.47 1.35L5.41 20z\"/>\n",
              "  </svg>\n",
              "      </button>\n",
              "      \n",
              "  <style>\n",
              "    .colab-df-container {\n",
              "      display:flex;\n",
              "      flex-wrap:wrap;\n",
              "      gap: 12px;\n",
              "    }\n",
              "\n",
              "    .colab-df-convert {\n",
              "      background-color: #E8F0FE;\n",
              "      border: none;\n",
              "      border-radius: 50%;\n",
              "      cursor: pointer;\n",
              "      display: none;\n",
              "      fill: #1967D2;\n",
              "      height: 32px;\n",
              "      padding: 0 0 0 0;\n",
              "      width: 32px;\n",
              "    }\n",
              "\n",
              "    .colab-df-convert:hover {\n",
              "      background-color: #E2EBFA;\n",
              "      box-shadow: 0px 1px 2px rgba(60, 64, 67, 0.3), 0px 1px 3px 1px rgba(60, 64, 67, 0.15);\n",
              "      fill: #174EA6;\n",
              "    }\n",
              "\n",
              "    [theme=dark] .colab-df-convert {\n",
              "      background-color: #3B4455;\n",
              "      fill: #D2E3FC;\n",
              "    }\n",
              "\n",
              "    [theme=dark] .colab-df-convert:hover {\n",
              "      background-color: #434B5C;\n",
              "      box-shadow: 0px 1px 3px 1px rgba(0, 0, 0, 0.15);\n",
              "      filter: drop-shadow(0px 1px 2px rgba(0, 0, 0, 0.3));\n",
              "      fill: #FFFFFF;\n",
              "    }\n",
              "  </style>\n",
              "\n",
              "      <script>\n",
              "        const buttonEl =\n",
              "          document.querySelector('#df-2bd35ed0-6541-4b97-8fa4-fc94b64de196 button.colab-df-convert');\n",
              "        buttonEl.style.display =\n",
              "          google.colab.kernel.accessAllowed ? 'block' : 'none';\n",
              "\n",
              "        async function convertToInteractive(key) {\n",
              "          const element = document.querySelector('#df-2bd35ed0-6541-4b97-8fa4-fc94b64de196');\n",
              "          const dataTable =\n",
              "            await google.colab.kernel.invokeFunction('convertToInteractive',\n",
              "                                                     [key], {});\n",
              "          if (!dataTable) return;\n",
              "\n",
              "          const docLinkHtml = 'Like what you see? Visit the ' +\n",
              "            '<a target=\"_blank\" href=https://colab.research.google.com/notebooks/data_table.ipynb>data table notebook</a>'\n",
              "            + ' to learn more about interactive tables.';\n",
              "          element.innerHTML = '';\n",
              "          dataTable['output_type'] = 'display_data';\n",
              "          await google.colab.output.renderOutput(dataTable, element);\n",
              "          const docLink = document.createElement('div');\n",
              "          docLink.innerHTML = docLinkHtml;\n",
              "          element.appendChild(docLink);\n",
              "        }\n",
              "      </script>\n",
              "    </div>\n",
              "  </div>\n",
              "  "
            ],
            "text/plain": [
              "              n            \n",
              "predicted    -1     0     1\n",
              "actual                     \n",
              "-1         0.19  0.00  0.12\n",
              " 0         0.09  0.25  0.05\n",
              " 1         0.19  0.00  0.12"
            ]
          },
          "metadata": {},
          "execution_count": 9
        }
      ]
    },
    {
      "cell_type": "markdown",
      "source": [
        "The next table shows how accurately the neural network predicts the absolute value $|\\mu(n)|$: this function is $1$ if $n$ has distinct prime factors, or $0$ if $n$ has a repeated prime factor. In the same run as above I got\n",
        "\n",
        "| predicted | 0    | 1    |\n",
        "|-----------|------|------|\n",
        "| actual    |      |      |\n",
        "| 0         | 0.25 | 0.14 |\n",
        "| 1         | 0.00 | 0.61 |\n",
        "\n",
        "which shows that the network can predict the absolute value pretty well, albeit with some false positives for $|\\mu(n) = 1|$."
      ],
      "metadata": {
        "id": "RoUYWg2h84MZ"
      }
    },
    {
      "cell_type": "code",
      "source": [
        "counts_abs = np.abs(results).pivot_table(index='actual', columns='predicted', aggfunc=len, fill_value=0)\n",
        "(counts_abs / counts_abs.sum().sum()).round(2)"
      ],
      "metadata": {
        "colab": {
          "base_uri": "https://localhost:8080/",
          "height": 175
        },
        "id": "nBu85maivAaJ",
        "outputId": "b77980a3-f6b8-4087-c982-a988dae86ee4"
      },
      "execution_count": null,
      "outputs": [
        {
          "output_type": "execute_result",
          "data": {
            "text/html": [
              "\n",
              "  <div id=\"df-732fe1c3-5d21-4721-bbd2-6057b0adcfb6\">\n",
              "    <div class=\"colab-df-container\">\n",
              "      <div>\n",
              "<style scoped>\n",
              "    .dataframe tbody tr th:only-of-type {\n",
              "        vertical-align: middle;\n",
              "    }\n",
              "\n",
              "    .dataframe tbody tr th {\n",
              "        vertical-align: top;\n",
              "    }\n",
              "\n",
              "    .dataframe thead tr th {\n",
              "        text-align: left;\n",
              "    }\n",
              "\n",
              "    .dataframe thead tr:last-of-type th {\n",
              "        text-align: right;\n",
              "    }\n",
              "</style>\n",
              "<table border=\"1\" class=\"dataframe\">\n",
              "  <thead>\n",
              "    <tr>\n",
              "      <th></th>\n",
              "      <th colspan=\"2\" halign=\"left\">n</th>\n",
              "    </tr>\n",
              "    <tr>\n",
              "      <th>predicted</th>\n",
              "      <th>0</th>\n",
              "      <th>1</th>\n",
              "    </tr>\n",
              "    <tr>\n",
              "      <th>actual</th>\n",
              "      <th></th>\n",
              "      <th></th>\n",
              "    </tr>\n",
              "  </thead>\n",
              "  <tbody>\n",
              "    <tr>\n",
              "      <th>0</th>\n",
              "      <td>0.25</td>\n",
              "      <td>0.14</td>\n",
              "    </tr>\n",
              "    <tr>\n",
              "      <th>1</th>\n",
              "      <td>0.00</td>\n",
              "      <td>0.61</td>\n",
              "    </tr>\n",
              "  </tbody>\n",
              "</table>\n",
              "</div>\n",
              "      <button class=\"colab-df-convert\" onclick=\"convertToInteractive('df-732fe1c3-5d21-4721-bbd2-6057b0adcfb6')\"\n",
              "              title=\"Convert this dataframe to an interactive table.\"\n",
              "              style=\"display:none;\">\n",
              "        \n",
              "  <svg xmlns=\"http://www.w3.org/2000/svg\" height=\"24px\"viewBox=\"0 0 24 24\"\n",
              "       width=\"24px\">\n",
              "    <path d=\"M0 0h24v24H0V0z\" fill=\"none\"/>\n",
              "    <path d=\"M18.56 5.44l.94 2.06.94-2.06 2.06-.94-2.06-.94-.94-2.06-.94 2.06-2.06.94zm-11 1L8.5 8.5l.94-2.06 2.06-.94-2.06-.94L8.5 2.5l-.94 2.06-2.06.94zm10 10l.94 2.06.94-2.06 2.06-.94-2.06-.94-.94-2.06-.94 2.06-2.06.94z\"/><path d=\"M17.41 7.96l-1.37-1.37c-.4-.4-.92-.59-1.43-.59-.52 0-1.04.2-1.43.59L10.3 9.45l-7.72 7.72c-.78.78-.78 2.05 0 2.83L4 21.41c.39.39.9.59 1.41.59.51 0 1.02-.2 1.41-.59l7.78-7.78 2.81-2.81c.8-.78.8-2.07 0-2.86zM5.41 20L4 18.59l7.72-7.72 1.47 1.35L5.41 20z\"/>\n",
              "  </svg>\n",
              "      </button>\n",
              "      \n",
              "  <style>\n",
              "    .colab-df-container {\n",
              "      display:flex;\n",
              "      flex-wrap:wrap;\n",
              "      gap: 12px;\n",
              "    }\n",
              "\n",
              "    .colab-df-convert {\n",
              "      background-color: #E8F0FE;\n",
              "      border: none;\n",
              "      border-radius: 50%;\n",
              "      cursor: pointer;\n",
              "      display: none;\n",
              "      fill: #1967D2;\n",
              "      height: 32px;\n",
              "      padding: 0 0 0 0;\n",
              "      width: 32px;\n",
              "    }\n",
              "\n",
              "    .colab-df-convert:hover {\n",
              "      background-color: #E2EBFA;\n",
              "      box-shadow: 0px 1px 2px rgba(60, 64, 67, 0.3), 0px 1px 3px 1px rgba(60, 64, 67, 0.15);\n",
              "      fill: #174EA6;\n",
              "    }\n",
              "\n",
              "    [theme=dark] .colab-df-convert {\n",
              "      background-color: #3B4455;\n",
              "      fill: #D2E3FC;\n",
              "    }\n",
              "\n",
              "    [theme=dark] .colab-df-convert:hover {\n",
              "      background-color: #434B5C;\n",
              "      box-shadow: 0px 1px 3px 1px rgba(0, 0, 0, 0.15);\n",
              "      filter: drop-shadow(0px 1px 2px rgba(0, 0, 0, 0.3));\n",
              "      fill: #FFFFFF;\n",
              "    }\n",
              "  </style>\n",
              "\n",
              "      <script>\n",
              "        const buttonEl =\n",
              "          document.querySelector('#df-732fe1c3-5d21-4721-bbd2-6057b0adcfb6 button.colab-df-convert');\n",
              "        buttonEl.style.display =\n",
              "          google.colab.kernel.accessAllowed ? 'block' : 'none';\n",
              "\n",
              "        async function convertToInteractive(key) {\n",
              "          const element = document.querySelector('#df-732fe1c3-5d21-4721-bbd2-6057b0adcfb6');\n",
              "          const dataTable =\n",
              "            await google.colab.kernel.invokeFunction('convertToInteractive',\n",
              "                                                     [key], {});\n",
              "          if (!dataTable) return;\n",
              "\n",
              "          const docLinkHtml = 'Like what you see? Visit the ' +\n",
              "            '<a target=\"_blank\" href=https://colab.research.google.com/notebooks/data_table.ipynb>data table notebook</a>'\n",
              "            + ' to learn more about interactive tables.';\n",
              "          element.innerHTML = '';\n",
              "          dataTable['output_type'] = 'display_data';\n",
              "          await google.colab.output.renderOutput(dataTable, element);\n",
              "          const docLink = document.createElement('div');\n",
              "          docLink.innerHTML = docLinkHtml;\n",
              "          element.appendChild(docLink);\n",
              "        }\n",
              "      </script>\n",
              "    </div>\n",
              "  </div>\n",
              "  "
            ],
            "text/plain": [
              "              n      \n",
              "predicted     0     1\n",
              "actual               \n",
              "0          0.25  0.14\n",
              "1          0.00  0.61"
            ]
          },
          "metadata": {},
          "execution_count": 10
        }
      ]
    },
    {
      "cell_type": "markdown",
      "source": [
        "# Task 2: Divisibility\n",
        "\n",
        "Make a neural network to predict, given the binary representation of a $B$-bit number, whether the number is divisible by some other fixed number $D$ (say 2, or 12).\n",
        "\n",
        "The following block should start you off with the required inputs and outputs: the inputs will again be a tensor containing the binary representation of all integers in the range $[0, 2^B)$, while the output will be $0$ meaning \"indivisible\" and $1$ meaning \"divisible\".\n",
        "\n",
        "Questions to explore:\n",
        "\n",
        "1. How few parameters can you get away with? What about when $D$ is \"easy\" (for example a power of 2)?\n",
        "2. Which divisors $D$ seem to be \"hard\" for the network?\n",
        "3. By reducing $n = n_0 + 2 n_1 + 2^2 n_2 + 2^3 n_3 + \\cdots$ modulo $D$ you can come up with (sometimes simple) divisibility rules which only look at the binary digits. For simple cases like $D = 2$ or $D = 3$, do the parameters of the neural network reflect these?\n",
        "\n"
      ],
      "metadata": {
        "id": "uJJmyBnIBaje"
      }
    },
    {
      "cell_type": "code",
      "source": [
        "BITS = 10\n",
        "D = 5\n",
        "inputs = binary_block(BITS)\n",
        "outputs = torch.tensor([1 if i % D == 0 else 0 for i in range(2**BITS)])\n",
        "\n",
        "# Check the first 20 outputs to make sure we get what we're expecting.\n",
        "outputs[:20]"
      ],
      "metadata": {
        "colab": {
          "base_uri": "https://localhost:8080/"
        },
        "id": "Pa85J0duBm_y",
        "outputId": "a4c07a73-3b1c-48e9-9682-f9d8c6e2b16d"
      },
      "execution_count": null,
      "outputs": [
        {
          "output_type": "execute_result",
          "data": {
            "text/plain": [
              "tensor([1, 0, 0, 0, 0, 1, 0, 0, 0, 0, 1, 0, 0, 0, 0, 1, 0, 0, 0, 0])"
            ]
          },
          "metadata": {},
          "execution_count": 11
        }
      ]
    },
    {
      "cell_type": "markdown",
      "source": [
        "# Task 3: Residue classes\n",
        "\n",
        "Rather than classifying a number as either divisible or not divisible by $D$, instead classify a number into one of the residue classes $\\{0, 1, \\ldots, D-1\\}$. Does the network do a better job on this problem, or on divisibility?"
      ],
      "metadata": {
        "id": "yjowI_nxZBwW"
      }
    },
    {
      "cell_type": "markdown",
      "source": [
        "# Task 4: Möbius revisited\n",
        "\n",
        "Machine learning has historically been done by thinking very hard about a good nonlinear transformation to apply to data, then following that transform with a linear (or at least relatively simple) classifier of some kind.\n",
        "\n",
        "In number theory there is an obvious transformation to apply, which is taking a number $n = 2^{\\nu_2} 3^{\\nu_3} 5^{\\nu_5} \\cdots$ to its \"prime factorisation vector\" $[\\nu_1, \\nu_2,  \\nu_3, \\ldots]$. Let's see what happens in our example above if we were to feed this into the neural network instead. We've provided the function which builds the tensor of prime factorisations.\n",
        "\n",
        "Let $\\pi(N)$ be the number of primes in the range $[0, N)$ (slightly different from the standard definition), then the function `prime_exponents_upto` will return a tensor `T` of shape $(N, \\pi(N))$ such that $T[n, :]$ is the list of exponents appearing in the prime factorisation of $n$. It also returns a tensor of the primes, so that we can double-check the transformation worked properly."
      ],
      "metadata": {
        "id": "IUTsZPrGm13y"
      }
    },
    {
      "cell_type": "code",
      "source": [
        "def prime_exponents_upto(N: int):\n",
        "    \"\"\"\n",
        "    Return a tensor of shape (N, pi(N)) where pi(N) is the number of primes in the\n",
        "    range [0, N), representing each number as its prime factorisation.\n",
        "    \"\"\"\n",
        "    primes = primes_upto(N)\n",
        "    pi = len(primes)\n",
        "\n",
        "    exponents = torch.full(size=(N, pi), fill_value=0.0)\n",
        "    for i, p in enumerate(primes):\n",
        "        power = p\n",
        "        while power < N:\n",
        "            for j in range(power, N, power):\n",
        "                exponents[j, i] += 1\n",
        "            power *= p\n",
        "    \n",
        "    return torch.tensor(primes), exponents\n",
        "\n",
        "primes, exponents = prime_exponents_upto(20)\n",
        "exponents"
      ],
      "metadata": {
        "colab": {
          "base_uri": "https://localhost:8080/"
        },
        "id": "EE378XtAqWo7",
        "outputId": "d902c736-3917-4a19-c29b-204273ec6c33"
      },
      "execution_count": null,
      "outputs": [
        {
          "output_type": "execute_result",
          "data": {
            "text/plain": [
              "tensor([[0., 0., 0., 0., 0., 0., 0., 0.],\n",
              "        [0., 0., 0., 0., 0., 0., 0., 0.],\n",
              "        [1., 0., 0., 0., 0., 0., 0., 0.],\n",
              "        [0., 1., 0., 0., 0., 0., 0., 0.],\n",
              "        [2., 0., 0., 0., 0., 0., 0., 0.],\n",
              "        [0., 0., 1., 0., 0., 0., 0., 0.],\n",
              "        [1., 1., 0., 0., 0., 0., 0., 0.],\n",
              "        [0., 0., 0., 1., 0., 0., 0., 0.],\n",
              "        [3., 0., 0., 0., 0., 0., 0., 0.],\n",
              "        [0., 2., 0., 0., 0., 0., 0., 0.],\n",
              "        [1., 0., 1., 0., 0., 0., 0., 0.],\n",
              "        [0., 0., 0., 0., 1., 0., 0., 0.],\n",
              "        [2., 1., 0., 0., 0., 0., 0., 0.],\n",
              "        [0., 0., 0., 0., 0., 1., 0., 0.],\n",
              "        [1., 0., 0., 1., 0., 0., 0., 0.],\n",
              "        [0., 1., 1., 0., 0., 0., 0., 0.],\n",
              "        [4., 0., 0., 0., 0., 0., 0., 0.],\n",
              "        [0., 0., 0., 0., 0., 0., 1., 0.],\n",
              "        [1., 2., 0., 0., 0., 0., 0., 0.],\n",
              "        [0., 0., 0., 0., 0., 0., 0., 1.]])"
            ]
          },
          "metadata": {},
          "execution_count": 12
        }
      ]
    },
    {
      "cell_type": "markdown",
      "source": [
        "We can double-check that our function worked by trying to apply the inverse transformation. There is some tensor trickery going on here: we have a tensor $T$ of shape $(N, \\pi(N))$ containing the exponents, where $T[n, i] = \\nu_{p_i}(n)$ for $p_i$ the $i$th prime, and a tensor $P$ of shape $(\\pi(N))$ where $P[i] = p_i$. The exponentiation operator `**` follows [Numpy broadcasting rules](https://numpy.org/doc/stable/user/basics.broadcasting.html) (bookmark that link for a perusal later!) and interprets `T ** P` to be the tensor $(P\\mathtt{**}T)[i, j] = P[j]^{T[i, j]}$, in other words it applies across the last index of both shapes. We can then use `torch.prod` across the last index (`dim=-1`) of the resulting tensor to take the product.\n",
        "\n",
        "This is an example of where a large computation is written concisely and executed fast, using the language of Numpy/torch tensors."
      ],
      "metadata": {
        "id": "wMelxebrZxf3"
      }
    },
    {
      "cell_type": "code",
      "source": [
        "# Double-check the transformation worked by inverting it.\n",
        "# Note that 0 and 1 are represented by the same vector: this should not be much of a problem.\n",
        "torch.prod(primes ** exponents, dim=-1)"
      ],
      "metadata": {
        "colab": {
          "base_uri": "https://localhost:8080/"
        },
        "id": "lP5YecWmtJgq",
        "outputId": "075ad55d-87ac-4025-bc98-796a7b906516"
      },
      "execution_count": null,
      "outputs": [
        {
          "output_type": "execute_result",
          "data": {
            "text/plain": [
              "tensor([ 1.,  1.,  2.,  3.,  4.,  5.,  6.,  7.,  8.,  9., 10., 11., 12., 13.,\n",
              "        14., 15., 16., 17., 18., 19.])"
            ]
          },
          "metadata": {},
          "execution_count": 13
        }
      ]
    }
  ]
}